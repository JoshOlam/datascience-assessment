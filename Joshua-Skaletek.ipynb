{
  "cells": [
    {
      "cell_type": "markdown",
      "metadata": {
        "id": "WzDx6RVBc8R4"
      },
      "source": []
    },
    {
      "cell_type": "markdown",
      "metadata": {
        "id": "qRKoFBmCc8T-"
      },
      "source": [
        "## **Objective**:\n",
        "Perform an advanced analysis on the Titanic dataset, focusing on feature engineering, predictive modeling, and deriving actionable insights. This project aims to test advanced skills in data preprocessing, feature engineering, model tuning, and interpretation of results.\n",
        "\n",
        "##**Dataset**:\n",
        "Use the Titanic dataset. The dataset includes information on passengers such as age, gender, class, and whether they survived.\n",
        "\n",
        "##**Task Breakdown**\n",
        "##**Data Exploration and Cleaning**:\n",
        "\n",
        "1.   Load the dataset.\n",
        "2.   Perform a comprehensive exploratory data analysis (EDA).\n",
        "3.   Handle missing values, outliers, and data inconsistencies\n",
        "\n",
        "\n",
        "## **Feature Engineering**:\n",
        "\n",
        "1. Create complex features (e.g., family size, title extraction from names).\n",
        "2. Apply statistical techniques for feature transformation.\n",
        "3. Perform feature interaction analysis.\n",
        "\n",
        "## **Predictive Modeling with Advanced Techniques**:\n",
        "\n",
        "1. Implement and tune advanced machine learning models (e.g., Gradient Boosting, XGBoost).\n",
        "2. Use cross-validation and hyperparameter tuning for model optimization.\n",
        "3. Evaluate models using advanced metrics (e.g., ROC AUC, F1 Score).\n",
        "##**Model Interpretation and Explainability**:\n",
        "\n",
        "4. Use model interpretability tools (e.g., SHAP) to explain model predictions.\n",
        "5. Identify and visualize the most important features influencing survival predictions.\n",
        "\n",
        "##**Model Deployment**:"
      ]
    },
    {
      "cell_type": "markdown",
      "metadata": {
        "id": "3qnJxQSedJsJ"
      },
      "source": [
        "### **Solution Outline**"
      ]
    },
    {
      "cell_type": "markdown",
      "metadata": {
        "id": "BfThedf-dOGv"
      },
      "source": [
        "#### **Step 1: Data Exploration and Cleaning**"
      ]
    },
    {
      "cell_type": "markdown",
      "metadata": {
        "id": "S7ojhLm9dT_V"
      },
      "source": [
        "##### **Import important libraries**"
      ]
    },
    {
      "cell_type": "code",
      "execution_count": 121,
      "metadata": {
        "id": "ZSEJt78zdMyw"
      },
      "outputs": [],
      "source": [
        "import pandas as pd\n",
        "\n",
        "import matplotlib.pyplot as plt\n",
        "import seaborn as sns\n",
        "\n",
        "from sklearn.preprocessing import OneHotEncoder\n",
        "\n",
        "# Setting the aesthetics for the plots\n",
        "sns.set(style=\"whitegrid\")\n",
        "\n",
        "DATA_PATH = \"titanic-training-data.csv\""
      ]
    },
    {
      "cell_type": "markdown",
      "metadata": {
        "id": "jpPv9XPYdbPP"
      },
      "source": [
        "##### **Load dataset and display first few rows of teh dataset**"
      ]
    },
    {
      "cell_type": "code",
      "execution_count": 122,
      "metadata": {
        "colab": {
          "base_uri": "https://localhost:8080/",
          "height": 206
        },
        "id": "aLVaBw2sdhCJ",
        "outputId": "3ebb86c7-081a-479f-95b6-dc7fa667c2f3"
      },
      "outputs": [
        {
          "data": {
            "text/html": [
              "<div>\n",
              "<style scoped>\n",
              "    .dataframe tbody tr th:only-of-type {\n",
              "        vertical-align: middle;\n",
              "    }\n",
              "\n",
              "    .dataframe tbody tr th {\n",
              "        vertical-align: top;\n",
              "    }\n",
              "\n",
              "    .dataframe thead th {\n",
              "        text-align: right;\n",
              "    }\n",
              "</style>\n",
              "<table border=\"1\" class=\"dataframe\">\n",
              "  <thead>\n",
              "    <tr style=\"text-align: right;\">\n",
              "      <th></th>\n",
              "      <th>PassengerId</th>\n",
              "      <th>Survived</th>\n",
              "      <th>Pclass</th>\n",
              "      <th>Name</th>\n",
              "      <th>Sex</th>\n",
              "      <th>Age</th>\n",
              "      <th>SibSp</th>\n",
              "      <th>Parch</th>\n",
              "      <th>Ticket</th>\n",
              "      <th>Fare</th>\n",
              "      <th>Cabin</th>\n",
              "      <th>Embarked</th>\n",
              "    </tr>\n",
              "  </thead>\n",
              "  <tbody>\n",
              "    <tr>\n",
              "      <th>0</th>\n",
              "      <td>1</td>\n",
              "      <td>0</td>\n",
              "      <td>3</td>\n",
              "      <td>Braund, Mr. Owen Harris</td>\n",
              "      <td>male</td>\n",
              "      <td>22.0</td>\n",
              "      <td>1</td>\n",
              "      <td>0</td>\n",
              "      <td>A/5 21171</td>\n",
              "      <td>7.2500</td>\n",
              "      <td>NaN</td>\n",
              "      <td>S</td>\n",
              "    </tr>\n",
              "    <tr>\n",
              "      <th>1</th>\n",
              "      <td>2</td>\n",
              "      <td>1</td>\n",
              "      <td>1</td>\n",
              "      <td>Cumings, Mrs. John Bradley (Florence Briggs Th...</td>\n",
              "      <td>female</td>\n",
              "      <td>38.0</td>\n",
              "      <td>1</td>\n",
              "      <td>0</td>\n",
              "      <td>PC 17599</td>\n",
              "      <td>71.2833</td>\n",
              "      <td>C85</td>\n",
              "      <td>C</td>\n",
              "    </tr>\n",
              "    <tr>\n",
              "      <th>2</th>\n",
              "      <td>3</td>\n",
              "      <td>1</td>\n",
              "      <td>3</td>\n",
              "      <td>Heikkinen, Miss. Laina</td>\n",
              "      <td>female</td>\n",
              "      <td>26.0</td>\n",
              "      <td>0</td>\n",
              "      <td>0</td>\n",
              "      <td>STON/O2. 3101282</td>\n",
              "      <td>7.9250</td>\n",
              "      <td>NaN</td>\n",
              "      <td>S</td>\n",
              "    </tr>\n",
              "    <tr>\n",
              "      <th>3</th>\n",
              "      <td>4</td>\n",
              "      <td>1</td>\n",
              "      <td>1</td>\n",
              "      <td>Futrelle, Mrs. Jacques Heath (Lily May Peel)</td>\n",
              "      <td>female</td>\n",
              "      <td>35.0</td>\n",
              "      <td>1</td>\n",
              "      <td>0</td>\n",
              "      <td>113803</td>\n",
              "      <td>53.1000</td>\n",
              "      <td>C123</td>\n",
              "      <td>S</td>\n",
              "    </tr>\n",
              "    <tr>\n",
              "      <th>4</th>\n",
              "      <td>5</td>\n",
              "      <td>0</td>\n",
              "      <td>3</td>\n",
              "      <td>Allen, Mr. William Henry</td>\n",
              "      <td>male</td>\n",
              "      <td>35.0</td>\n",
              "      <td>0</td>\n",
              "      <td>0</td>\n",
              "      <td>373450</td>\n",
              "      <td>8.0500</td>\n",
              "      <td>NaN</td>\n",
              "      <td>S</td>\n",
              "    </tr>\n",
              "  </tbody>\n",
              "</table>\n",
              "</div>"
            ],
            "text/plain": [
              "   PassengerId  Survived  Pclass  \\\n",
              "0            1         0       3   \n",
              "1            2         1       1   \n",
              "2            3         1       3   \n",
              "3            4         1       1   \n",
              "4            5         0       3   \n",
              "\n",
              "                                                Name     Sex   Age  SibSp  \\\n",
              "0                            Braund, Mr. Owen Harris    male  22.0      1   \n",
              "1  Cumings, Mrs. John Bradley (Florence Briggs Th...  female  38.0      1   \n",
              "2                             Heikkinen, Miss. Laina  female  26.0      0   \n",
              "3       Futrelle, Mrs. Jacques Heath (Lily May Peel)  female  35.0      1   \n",
              "4                           Allen, Mr. William Henry    male  35.0      0   \n",
              "\n",
              "   Parch            Ticket     Fare Cabin Embarked  \n",
              "0      0         A/5 21171   7.2500   NaN        S  \n",
              "1      0          PC 17599  71.2833   C85        C  \n",
              "2      0  STON/O2. 3101282   7.9250   NaN        S  \n",
              "3      0            113803  53.1000  C123        S  \n",
              "4      0            373450   8.0500   NaN        S  "
            ]
          },
          "execution_count": 122,
          "metadata": {},
          "output_type": "execute_result"
        }
      ],
      "source": [
        "# Load the dataset\n",
        "data = pd.read_csv(DATA_PATH)\n",
        "\n",
        "# Confirm the dataset is loaded\n",
        "data.head()"
      ]
    },
    {
      "cell_type": "markdown",
      "metadata": {
        "id": "_jCKMDCVdjKT"
      },
      "source": [
        "##### **Exploratory Data analysis**"
      ]
    },
    {
      "cell_type": "code",
      "execution_count": 123,
      "metadata": {
        "colab": {
          "base_uri": "https://localhost:8080/"
        },
        "id": "KmOiTMP0BEqX",
        "outputId": "0ec3de8d-70e9-4485-e35b-bbe90a731afc"
      },
      "outputs": [
        {
          "data": {
            "text/plain": [
              "(891, 12)"
            ]
          },
          "execution_count": 123,
          "metadata": {},
          "output_type": "execute_result"
        }
      ],
      "source": [
        "# Check the dimension of the data\n",
        "data.shape"
      ]
    },
    {
      "cell_type": "markdown",
      "metadata": {
        "id": "FMtB3HvoBJRk"
      },
      "source": [
        "The given dataset has `891` rows and `12` columns."
      ]
    },
    {
      "cell_type": "code",
      "execution_count": 124,
      "metadata": {
        "colab": {
          "base_uri": "https://localhost:8080/"
        },
        "id": "5o4y3-kMdntZ",
        "outputId": "c332bca8-0d56-4bee-cce8-71f6117ec9f2"
      },
      "outputs": [
        {
          "name": "stdout",
          "output_type": "stream",
          "text": [
            "<class 'pandas.core.frame.DataFrame'>\n",
            "RangeIndex: 891 entries, 0 to 890\n",
            "Data columns (total 12 columns):\n",
            " #   Column       Non-Null Count  Dtype  \n",
            "---  ------       --------------  -----  \n",
            " 0   PassengerId  891 non-null    int64  \n",
            " 1   Survived     891 non-null    int64  \n",
            " 2   Pclass       891 non-null    int64  \n",
            " 3   Name         891 non-null    object \n",
            " 4   Sex          891 non-null    object \n",
            " 5   Age          714 non-null    float64\n",
            " 6   SibSp        891 non-null    int64  \n",
            " 7   Parch        891 non-null    int64  \n",
            " 8   Ticket       891 non-null    object \n",
            " 9   Fare         891 non-null    float64\n",
            " 10  Cabin        204 non-null    object \n",
            " 11  Embarked     889 non-null    object \n",
            "dtypes: float64(2), int64(5), object(5)\n",
            "memory usage: 83.7+ KB\n"
          ]
        }
      ],
      "source": [
        "# Check the basic information about the data\n",
        "data.info()"
      ]
    },
    {
      "cell_type": "markdown",
      "metadata": {
        "id": "VoZrIAcUBVti"
      },
      "source": [
        "From the result above, we can see that most of the features have a non-null count of `891`, which corresponds with the number of rows, except features like `Age`, `Cabin`, and `Embarked`. This means that we might have to investigate some of these features further."
      ]
    },
    {
      "cell_type": "code",
      "execution_count": 125,
      "metadata": {
        "colab": {
          "base_uri": "https://localhost:8080/"
        },
        "id": "SBc4tvGhfqw2",
        "outputId": "0ff99a44-0a32-40e2-cc1d-7ffc8ba29a8f"
      },
      "outputs": [
        {
          "data": {
            "text/plain": [
              "PassengerId      0\n",
              "Survived         0\n",
              "Pclass           0\n",
              "Name             0\n",
              "Sex              0\n",
              "Age            177\n",
              "SibSp            0\n",
              "Parch            0\n",
              "Ticket           0\n",
              "Fare             0\n",
              "Cabin          687\n",
              "Embarked         2\n",
              "dtype: int64"
            ]
          },
          "execution_count": 125,
          "metadata": {},
          "output_type": "execute_result"
        }
      ],
      "source": [
        "# Get the count of missing values\n",
        "data.isnull().sum()"
      ]
    },
    {
      "cell_type": "code",
      "execution_count": 126,
      "metadata": {
        "id": "qG--GLGbfq9U"
      },
      "outputs": [
        {
          "data": {
            "text/html": [
              "<div>\n",
              "<style scoped>\n",
              "    .dataframe tbody tr th:only-of-type {\n",
              "        vertical-align: middle;\n",
              "    }\n",
              "\n",
              "    .dataframe tbody tr th {\n",
              "        vertical-align: top;\n",
              "    }\n",
              "\n",
              "    .dataframe thead th {\n",
              "        text-align: right;\n",
              "    }\n",
              "</style>\n",
              "<table border=\"1\" class=\"dataframe\">\n",
              "  <thead>\n",
              "    <tr style=\"text-align: right;\">\n",
              "      <th></th>\n",
              "      <th>PassengerId</th>\n",
              "      <th>Survived</th>\n",
              "      <th>Pclass</th>\n",
              "      <th>Age</th>\n",
              "      <th>SibSp</th>\n",
              "      <th>Parch</th>\n",
              "      <th>Fare</th>\n",
              "    </tr>\n",
              "  </thead>\n",
              "  <tbody>\n",
              "    <tr>\n",
              "      <th>count</th>\n",
              "      <td>891.000000</td>\n",
              "      <td>891.000000</td>\n",
              "      <td>891.000000</td>\n",
              "      <td>714.000000</td>\n",
              "      <td>891.000000</td>\n",
              "      <td>891.000000</td>\n",
              "      <td>891.000000</td>\n",
              "    </tr>\n",
              "    <tr>\n",
              "      <th>mean</th>\n",
              "      <td>446.000000</td>\n",
              "      <td>0.383838</td>\n",
              "      <td>2.308642</td>\n",
              "      <td>29.699118</td>\n",
              "      <td>0.523008</td>\n",
              "      <td>0.381594</td>\n",
              "      <td>32.204208</td>\n",
              "    </tr>\n",
              "    <tr>\n",
              "      <th>std</th>\n",
              "      <td>257.353842</td>\n",
              "      <td>0.486592</td>\n",
              "      <td>0.836071</td>\n",
              "      <td>14.526497</td>\n",
              "      <td>1.102743</td>\n",
              "      <td>0.806057</td>\n",
              "      <td>49.693429</td>\n",
              "    </tr>\n",
              "    <tr>\n",
              "      <th>min</th>\n",
              "      <td>1.000000</td>\n",
              "      <td>0.000000</td>\n",
              "      <td>1.000000</td>\n",
              "      <td>0.420000</td>\n",
              "      <td>0.000000</td>\n",
              "      <td>0.000000</td>\n",
              "      <td>0.000000</td>\n",
              "    </tr>\n",
              "    <tr>\n",
              "      <th>25%</th>\n",
              "      <td>223.500000</td>\n",
              "      <td>0.000000</td>\n",
              "      <td>2.000000</td>\n",
              "      <td>20.125000</td>\n",
              "      <td>0.000000</td>\n",
              "      <td>0.000000</td>\n",
              "      <td>7.910400</td>\n",
              "    </tr>\n",
              "    <tr>\n",
              "      <th>50%</th>\n",
              "      <td>446.000000</td>\n",
              "      <td>0.000000</td>\n",
              "      <td>3.000000</td>\n",
              "      <td>28.000000</td>\n",
              "      <td>0.000000</td>\n",
              "      <td>0.000000</td>\n",
              "      <td>14.454200</td>\n",
              "    </tr>\n",
              "    <tr>\n",
              "      <th>75%</th>\n",
              "      <td>668.500000</td>\n",
              "      <td>1.000000</td>\n",
              "      <td>3.000000</td>\n",
              "      <td>38.000000</td>\n",
              "      <td>1.000000</td>\n",
              "      <td>0.000000</td>\n",
              "      <td>31.000000</td>\n",
              "    </tr>\n",
              "    <tr>\n",
              "      <th>max</th>\n",
              "      <td>891.000000</td>\n",
              "      <td>1.000000</td>\n",
              "      <td>3.000000</td>\n",
              "      <td>80.000000</td>\n",
              "      <td>8.000000</td>\n",
              "      <td>6.000000</td>\n",
              "      <td>512.329200</td>\n",
              "    </tr>\n",
              "  </tbody>\n",
              "</table>\n",
              "</div>"
            ],
            "text/plain": [
              "       PassengerId    Survived      Pclass         Age       SibSp  \\\n",
              "count   891.000000  891.000000  891.000000  714.000000  891.000000   \n",
              "mean    446.000000    0.383838    2.308642   29.699118    0.523008   \n",
              "std     257.353842    0.486592    0.836071   14.526497    1.102743   \n",
              "min       1.000000    0.000000    1.000000    0.420000    0.000000   \n",
              "25%     223.500000    0.000000    2.000000   20.125000    0.000000   \n",
              "50%     446.000000    0.000000    3.000000   28.000000    0.000000   \n",
              "75%     668.500000    1.000000    3.000000   38.000000    1.000000   \n",
              "max     891.000000    1.000000    3.000000   80.000000    8.000000   \n",
              "\n",
              "            Parch        Fare  \n",
              "count  891.000000  891.000000  \n",
              "mean     0.381594   32.204208  \n",
              "std      0.806057   49.693429  \n",
              "min      0.000000    0.000000  \n",
              "25%      0.000000    7.910400  \n",
              "50%      0.000000   14.454200  \n",
              "75%      0.000000   31.000000  \n",
              "max      6.000000  512.329200  "
            ]
          },
          "execution_count": 126,
          "metadata": {},
          "output_type": "execute_result"
        }
      ],
      "source": [
        "# Check the statistical description of numerical features\n",
        "data.describe()"
      ]
    },
    {
      "cell_type": "markdown",
      "metadata": {},
      "source": [
        "##### Numerical Data:\n",
        "\n",
        "- Survived: About 38.4% of passengers survived, based on the mean of the Survived column.\n",
        "\n",
        "- Pclass: The majority of passengers were in 3rd class.\n",
        "\n",
        "- Age: The average age is approximately 29.7 years, with ages ranging from less than a year to 80 years.\n",
        "\n",
        "- SibSp (Siblings/Spouses aboard) and Parch (Parents/Children aboard): Most passengers did not have siblings, spouses, parents, or children aboard.\n",
        "\n",
        "- Fare: Fares varied significantly, with a mean of $32.20, but ranging up to $512.33.\n"
      ]
    },
    {
      "cell_type": "code",
      "execution_count": 127,
      "metadata": {},
      "outputs": [
        {
          "data": {
            "text/html": [
              "<div>\n",
              "<style scoped>\n",
              "    .dataframe tbody tr th:only-of-type {\n",
              "        vertical-align: middle;\n",
              "    }\n",
              "\n",
              "    .dataframe tbody tr th {\n",
              "        vertical-align: top;\n",
              "    }\n",
              "\n",
              "    .dataframe thead th {\n",
              "        text-align: right;\n",
              "    }\n",
              "</style>\n",
              "<table border=\"1\" class=\"dataframe\">\n",
              "  <thead>\n",
              "    <tr style=\"text-align: right;\">\n",
              "      <th></th>\n",
              "      <th>Name</th>\n",
              "      <th>Sex</th>\n",
              "      <th>Ticket</th>\n",
              "      <th>Cabin</th>\n",
              "      <th>Embarked</th>\n",
              "    </tr>\n",
              "  </thead>\n",
              "  <tbody>\n",
              "    <tr>\n",
              "      <th>count</th>\n",
              "      <td>891</td>\n",
              "      <td>891</td>\n",
              "      <td>891</td>\n",
              "      <td>204</td>\n",
              "      <td>889</td>\n",
              "    </tr>\n",
              "    <tr>\n",
              "      <th>unique</th>\n",
              "      <td>891</td>\n",
              "      <td>2</td>\n",
              "      <td>681</td>\n",
              "      <td>147</td>\n",
              "      <td>3</td>\n",
              "    </tr>\n",
              "    <tr>\n",
              "      <th>top</th>\n",
              "      <td>Braund, Mr. Owen Harris</td>\n",
              "      <td>male</td>\n",
              "      <td>347082</td>\n",
              "      <td>B96 B98</td>\n",
              "      <td>S</td>\n",
              "    </tr>\n",
              "    <tr>\n",
              "      <th>freq</th>\n",
              "      <td>1</td>\n",
              "      <td>577</td>\n",
              "      <td>7</td>\n",
              "      <td>4</td>\n",
              "      <td>644</td>\n",
              "    </tr>\n",
              "  </tbody>\n",
              "</table>\n",
              "</div>"
            ],
            "text/plain": [
              "                           Name   Sex  Ticket    Cabin Embarked\n",
              "count                       891   891     891      204      889\n",
              "unique                      891     2     681      147        3\n",
              "top     Braund, Mr. Owen Harris  male  347082  B96 B98        S\n",
              "freq                          1   577       7        4      644"
            ]
          },
          "execution_count": 127,
          "metadata": {},
          "output_type": "execute_result"
        }
      ],
      "source": [
        "# Check the statistical description of categorical features\n",
        "data.describe(include=\"object\")"
      ]
    },
    {
      "cell_type": "markdown",
      "metadata": {},
      "source": [
        "##### Categorical Data:\n",
        "\n",
        "- Name: Each passenger has a unique name entry.\n",
        "\n",
        "- Sex: There are more males (577) than females on board.\n",
        "\n",
        "- Ticket: There are a large number of unique ticket numbers, indicating many different tickets were issued. Some ticket numbers are duplicated, possibly indicating shared tickets among families or groups.\n",
        "\n",
        "- Cabin: Many passengers do not have cabin data (missing data for 687 out of 891 entries), and there are several passengers per cabin among those listed.\n",
        "\n",
        "- Embarked: Most passengers embarked from Southampton ('S'), followed by Cherbourg ('C') and Queenstown ('Q').\n",
        "\n"
      ]
    },
    {
      "cell_type": "code",
      "execution_count": 128,
      "metadata": {},
      "outputs": [],
      "source": [
        "# Set the PassengerId as the index\n",
        "data.set_index(\"PassengerId\", inplace=True)"
      ]
    },
    {
      "cell_type": "code",
      "execution_count": 129,
      "metadata": {},
      "outputs": [
        {
          "data": {
            "image/png": "[encoded data removed]",
            "text/plain": [
              "<Figure size 1400x1800 with 6 Axes>"
            ]
          },
          "metadata": {},
          "output_type": "display_data"
        }
      ],
      "source": [
        "# Create a figure to hold the visualizations\n",
        "fig, axes = plt.subplots(nrows=3, ncols=2, figsize=(14, 18))\n",
        "\n",
        "# Histogram of Age\n",
        "sns.histplot(data['Age'].dropna(), bins=30, ax=axes[0, 0], kde=False, color='blue')\n",
        "axes[0, 0].set_title('Distribution of Age')\n",
        "\n",
        "# Histogram of Fare\n",
        "sns.histplot(data['Fare'], bins=30, ax=axes[0, 1], kde=False, color='green')\n",
        "axes[0, 1].set_title('Distribution of Fare')\n",
        "\n",
        "# Bar chart of Survival\n",
        "sns.countplot(x='Survived', data=data, ax=axes[1, 0])\n",
        "axes[1, 0].set_title('Survival Counts')\n",
        "\n",
        "# Bar chart of Sex\n",
        "sns.countplot(x='Sex', data=data, ax=axes[1, 1])\n",
        "axes[1, 1].set_title('Sex Counts')\n",
        "\n",
        "# Bar chart of Embarked\n",
        "sns.countplot(x='Embarked', data=data, ax=axes[2, 0])\n",
        "axes[2, 0].set_title('Embarkation Point Counts')\n",
        "\n",
        "# Box plot for Age to check outliers\n",
        "sns.boxplot(y='Age', data=data, ax=axes[2, 1], color='orange')\n",
        "axes[2, 1].set_title('Box Plot of Age')\n",
        "\n",
        "plt.tight_layout()\n",
        "plt.show()"
      ]
    },
    {
      "cell_type": "markdown",
      "metadata": {},
      "source": [
        "##### Visualizations Summary\n",
        "\n",
        "- **Distribution of Age**: The age distribution is slightly right-skewed, with a concentration of passengers between 20 and 40 years old.\n",
        "\n",
        "- **Distribution of Fare**: The fare distribution is highly skewed to the right, indicating most fares are low with a few very high outliers (luxury accommodations).\n",
        "\n",
        "- **Survival Counts**: More passengers did not survive (around 550) than those who did (around 340).\n",
        "\n",
        "- **Sex Counts**: There are significantly more males (around 580) than females (around 310) on board.\n",
        "\n",
        "- **Embarkation Point Counts**: Most passengers embarked at Southampton (S), followed by Cherbourg (C) and a smaller number from Queenstown (Q).\n",
        "\n",
        "- **Box Plot of Age**: The box plot for age shows a fairly normal distribution with a few outliers for older passengers."
      ]
    },
    {
      "cell_type": "code",
      "execution_count": 130,
      "metadata": {},
      "outputs": [
        {
          "data": {
            "image/png": "[encoded data removed]",
            "text/plain": [
              "<Figure size 1400x1200 with 4 Axes>"
            ]
          },
          "metadata": {},
          "output_type": "display_data"
        }
      ],
      "source": [
        "# Create a figure to hold the multivariate visualizations\n",
        "fig, axes = plt.subplots(nrows=2, ncols=2, figsize=(14, 12))\n",
        "\n",
        "# Relationship between Pclass and Survival\n",
        "sns.countplot(x='Pclass', hue='Survived', data=data, ax=axes[0, 0])\n",
        "axes[0, 0].set_title('Survival by Passenger Class')\n",
        "axes[0, 0].legend(title='Survived')\n",
        "\n",
        "# Impact of Gender on Survival\n",
        "sns.countplot(x='Sex', hue='Survived', data=data, ax=axes[0, 1])\n",
        "axes[0, 1].set_title('Survival by Gender')\n",
        "axes[0, 1].legend(title='Survived')\n",
        "\n",
        "# Interaction between Age and Fare in relation to Survival\n",
        "sns.scatterplot(x='Age', y='Fare', hue='Survived', data=data, ax=axes[1, 0])\n",
        "axes[1, 0].set_title('Age vs Fare by Survival')\n",
        "axes[1, 0].legend(title='Survived')\n",
        "\n",
        "# Relationship between Embarked and Survival\n",
        "sns.countplot(x='Embarked', hue='Survived', data=data, ax=axes[1, 1])\n",
        "axes[1, 1].set_title('Survival by Embarkation Point')\n",
        "axes[1, 1].legend(title='Survived')\n",
        "\n",
        "plt.tight_layout()\n",
        "plt.show()"
      ]
    },
    {
      "cell_type": "markdown",
      "metadata": {},
      "source": [
        "##### Multivariate Analysis Summary\n",
        "\n",
        "- **Survival by Passenger Class**\n",
        "    - First Class: Higher survival rate.\n",
        "    - Third Class: Lower survival rate, indicating a clear disadvantage compared to other classes.\n",
        "\n",
        "- **Survival by Gender**\n",
        "    - Females have a significantly higher survival rate than males, suggesting that gender played a critical role in survival chances.\n",
        "\n",
        "- **Age vs. Fare by Survival**\n",
        "    - There's a spread of ages and fares, with no distinct pattern at first glance. However, higher fare passengers (likely first class) show a slightly better survival rate, and they also tend to be spread across a wider age range.\n",
        "\n",
        "- **Survival by Embarkation Point**\n",
        "    - Passengers who embarked at Cherbourg (C) have a higher survival rate compared to those from Southampton (S) and Queenstown (Q).\n"
      ]
    },
    {
      "cell_type": "code",
      "execution_count": 131,
      "metadata": {},
      "outputs": [
        {
          "name": "stderr",
          "output_type": "stream",
          "text": [
            "/var/folders/nl/86p1bzr101l0gzx6w9cqnw000000gn/T/ipykernel_43068/4178453294.py:2: FutureWarning: The default value of numeric_only in DataFrame.corr is deprecated. In a future version, it will default to False. Select only valid columns or specify the value of numeric_only to silence this warning.\n",
            "  correlation_matrix = data.corr()\n"
          ]
        },
        {
          "data": {
            "image/png": "[encoded data removed]",
            "text/plain": [
              "<Figure size 1000x800 with 2 Axes>"
            ]
          },
          "metadata": {},
          "output_type": "display_data"
        }
      ],
      "source": [
        "# Calculate the correlation matrix\n",
        "correlation_matrix = data.corr()\n",
        "\n",
        "# Plot the heatmap\n",
        "plt.figure(figsize=(10, 8))\n",
        "sns.heatmap(correlation_matrix, annot=True, fmt=\".2f\", cmap='coolwarm', cbar_kws={'label': 'Correlation Coefficient'})\n",
        "plt.title('Correlation Matrix of Titanic Dataset')\n",
        "plt.tight_layout()\n",
        "plt.show();\n"
      ]
    },
    {
      "cell_type": "markdown",
      "metadata": {},
      "source": [
        "##### Correlation Insights\n",
        "\n",
        "- **Survived & Pclass**: There's a negative correlation (-0.34), indicating that higher classes (lower Pclass numbers) had better survival rates.\n",
        "\n",
        "- **Survived & Fare**: A positive correlation (0.26) suggests that passengers who paid higher fares had better chances of survival.\n",
        "\n",
        "- **Pclass & Fare**: Negative correlation (-0.55) shows that higher classes (which are numerically lower) are associated with higher fares.\n",
        "\n",
        "- **Age & Pclass**: Also negatively correlated (-0.37), indicating younger passengers tended to be in lower classes.\n",
        "\n",
        "- **SibSp & Parch**: A moderate positive correlation (0.41) indicates that passengers with siblings/spouses aboard were likely to also have parents/children aboard.\n"
      ]
    },
    {
      "cell_type": "markdown",
      "metadata": {
        "id": "6rSZb5fhfs96"
      },
      "source": [
        "##### **Handling Missing values and dropping non-useful columns**"
      ]
    },
    {
      "cell_type": "code",
      "execution_count": 132,
      "metadata": {
        "id": "-NFYBVApfzfB"
      },
      "outputs": [
        {
          "data": {
            "text/plain": [
              "Survived       0\n",
              "Pclass         0\n",
              "Name           0\n",
              "Sex            0\n",
              "Age            0\n",
              "SibSp          0\n",
              "Parch          0\n",
              "Ticket         0\n",
              "Fare           0\n",
              "Cabin        687\n",
              "Embarked       0\n",
              "Cabin_Ind      0\n",
              "dtype: int64"
            ]
          },
          "execution_count": 132,
          "metadata": {},
          "output_type": "execute_result"
        }
      ],
      "source": [
        "# Impute missing Age values by median Age grouped by Pclass\n",
        "data['Age'] = data.groupby('Pclass')['Age'].transform(lambda x: x.fillna(x.median()))\n",
        "\n",
        "# For Cabin, create a new column indicating whether cabin information is available\n",
        "data['Cabin_Ind'] = 0\n",
        "data.loc[data['Cabin'].notnull(), 'Cabin_Ind'] = 1\n",
        "\n",
        "# Impute missing Embarked values with the mode (most common value)\n",
        "data['Embarked'].fillna(data['Embarked'].mode()[0], inplace=True)\n",
        "\n",
        "# Confirm changes by displaying the count of missing values per column\n",
        "data.isnull().sum()\n"
      ]
    },
    {
      "cell_type": "markdown",
      "metadata": {},
      "source": [
        "- **Age**: Missing values have been imputed using the median age grouped by passenger class.\n",
        "\n",
        "- **Cabin**: A new indicator column `Cabin_Ind` has been added to denote whether cabin information was originally provided (1 for present, 0 for missing). The original `Cabin` column still contains missing values.\n",
        "\n",
        "- **Embarked**: Missing values have been filled with the most common embarkation point ('S')."
      ]
    },
    {
      "cell_type": "code",
      "execution_count": 133,
      "metadata": {},
      "outputs": [
        {
          "data": {
            "text/html": [
              "<div>\n",
              "<style scoped>\n",
              "    .dataframe tbody tr th:only-of-type {\n",
              "        vertical-align: middle;\n",
              "    }\n",
              "\n",
              "    .dataframe tbody tr th {\n",
              "        vertical-align: top;\n",
              "    }\n",
              "\n",
              "    .dataframe thead th {\n",
              "        text-align: right;\n",
              "    }\n",
              "</style>\n",
              "<table border=\"1\" class=\"dataframe\">\n",
              "  <thead>\n",
              "    <tr style=\"text-align: right;\">\n",
              "      <th></th>\n",
              "      <th>Survived</th>\n",
              "      <th>Pclass</th>\n",
              "      <th>Name</th>\n",
              "      <th>Sex</th>\n",
              "      <th>Age</th>\n",
              "      <th>SibSp</th>\n",
              "      <th>Parch</th>\n",
              "      <th>Ticket</th>\n",
              "      <th>Fare</th>\n",
              "      <th>Cabin</th>\n",
              "      <th>Embarked</th>\n",
              "      <th>Cabin_Ind</th>\n",
              "    </tr>\n",
              "    <tr>\n",
              "      <th>PassengerId</th>\n",
              "      <th></th>\n",
              "      <th></th>\n",
              "      <th></th>\n",
              "      <th></th>\n",
              "      <th></th>\n",
              "      <th></th>\n",
              "      <th></th>\n",
              "      <th></th>\n",
              "      <th></th>\n",
              "      <th></th>\n",
              "      <th></th>\n",
              "      <th></th>\n",
              "    </tr>\n",
              "  </thead>\n",
              "  <tbody>\n",
              "    <tr>\n",
              "      <th>1</th>\n",
              "      <td>0</td>\n",
              "      <td>3</td>\n",
              "      <td>Braund, Mr. Owen Harris</td>\n",
              "      <td>male</td>\n",
              "      <td>22.0</td>\n",
              "      <td>1</td>\n",
              "      <td>0</td>\n",
              "      <td>A/5 21171</td>\n",
              "      <td>7.2500</td>\n",
              "      <td>NaN</td>\n",
              "      <td>S</td>\n",
              "      <td>0</td>\n",
              "    </tr>\n",
              "    <tr>\n",
              "      <th>2</th>\n",
              "      <td>1</td>\n",
              "      <td>1</td>\n",
              "      <td>Cumings, Mrs. John Bradley (Florence Briggs Th...</td>\n",
              "      <td>female</td>\n",
              "      <td>38.0</td>\n",
              "      <td>1</td>\n",
              "      <td>0</td>\n",
              "      <td>PC 17599</td>\n",
              "      <td>71.2833</td>\n",
              "      <td>C85</td>\n",
              "      <td>C</td>\n",
              "      <td>1</td>\n",
              "    </tr>\n",
              "    <tr>\n",
              "      <th>3</th>\n",
              "      <td>1</td>\n",
              "      <td>3</td>\n",
              "      <td>Heikkinen, Miss. Laina</td>\n",
              "      <td>female</td>\n",
              "      <td>26.0</td>\n",
              "      <td>0</td>\n",
              "      <td>0</td>\n",
              "      <td>STON/O2. 3101282</td>\n",
              "      <td>7.9250</td>\n",
              "      <td>NaN</td>\n",
              "      <td>S</td>\n",
              "      <td>0</td>\n",
              "    </tr>\n",
              "    <tr>\n",
              "      <th>4</th>\n",
              "      <td>1</td>\n",
              "      <td>1</td>\n",
              "      <td>Futrelle, Mrs. Jacques Heath (Lily May Peel)</td>\n",
              "      <td>female</td>\n",
              "      <td>35.0</td>\n",
              "      <td>1</td>\n",
              "      <td>0</td>\n",
              "      <td>113803</td>\n",
              "      <td>53.1000</td>\n",
              "      <td>C123</td>\n",
              "      <td>S</td>\n",
              "      <td>1</td>\n",
              "    </tr>\n",
              "    <tr>\n",
              "      <th>5</th>\n",
              "      <td>0</td>\n",
              "      <td>3</td>\n",
              "      <td>Allen, Mr. William Henry</td>\n",
              "      <td>male</td>\n",
              "      <td>35.0</td>\n",
              "      <td>0</td>\n",
              "      <td>0</td>\n",
              "      <td>373450</td>\n",
              "      <td>8.0500</td>\n",
              "      <td>NaN</td>\n",
              "      <td>S</td>\n",
              "      <td>0</td>\n",
              "    </tr>\n",
              "  </tbody>\n",
              "</table>\n",
              "</div>"
            ],
            "text/plain": [
              "             Survived  Pclass  \\\n",
              "PassengerId                     \n",
              "1                   0       3   \n",
              "2                   1       1   \n",
              "3                   1       3   \n",
              "4                   1       1   \n",
              "5                   0       3   \n",
              "\n",
              "                                                          Name     Sex   Age  \\\n",
              "PassengerId                                                                    \n",
              "1                                      Braund, Mr. Owen Harris    male  22.0   \n",
              "2            Cumings, Mrs. John Bradley (Florence Briggs Th...  female  38.0   \n",
              "3                                       Heikkinen, Miss. Laina  female  26.0   \n",
              "4                 Futrelle, Mrs. Jacques Heath (Lily May Peel)  female  35.0   \n",
              "5                                     Allen, Mr. William Henry    male  35.0   \n",
              "\n",
              "             SibSp  Parch            Ticket     Fare Cabin Embarked  Cabin_Ind  \n",
              "PassengerId                                                                     \n",
              "1                1      0         A/5 21171   7.2500   NaN        S          0  \n",
              "2                1      0          PC 17599  71.2833   C85        C          1  \n",
              "3                0      0  STON/O2. 3101282   7.9250   NaN        S          0  \n",
              "4                1      0            113803  53.1000  C123        S          1  \n",
              "5                0      0            373450   8.0500   NaN        S          0  "
            ]
          },
          "execution_count": 133,
          "metadata": {},
          "output_type": "execute_result"
        }
      ],
      "source": [
        "# For Fare outliers, cap fares at the 95th percentile\n",
        "fare_cap = data['Fare'].quantile(0.95)\n",
        "data['Fare'] = data['Fare'].clip(upper=fare_cap)\n",
        "\n",
        "# Display updates\n",
        "data.head()"
      ]
    },
    {
      "cell_type": "markdown",
      "metadata": {},
      "source": [
        "- **Fare**: Outliers in the `Fare` column have been capped at the 95th percentile to reduce the impact of extreme values."
      ]
    },
    {
      "cell_type": "markdown",
      "metadata": {
        "id": "hi9qA2vWgqBu"
      },
      "source": [
        "#### **Step 2: Feature Engineering**"
      ]
    },
    {
      "cell_type": "markdown",
      "metadata": {
        "id": "6-5vLVOTgvWK"
      },
      "source": [
        "##### **Encode sex, Male =1, Female =0**"
      ]
    },
    {
      "cell_type": "code",
      "execution_count": 134,
      "metadata": {
        "colab": {
          "base_uri": "https://localhost:8080/"
        },
        "id": "rWb4Q7iugz3M",
        "outputId": "9a8a5398-3f57-4699-ae5c-7c1636ab7674"
      },
      "outputs": [
        {
          "data": {
            "text/plain": [
              "PassengerId\n",
              "1      1\n",
              "2      0\n",
              "3      0\n",
              "4      0\n",
              "5      1\n",
              "      ..\n",
              "887    1\n",
              "888    0\n",
              "889    0\n",
              "890    1\n",
              "891    1\n",
              "Name: Sex, Length: 891, dtype: int64"
            ]
          },
          "execution_count": 134,
          "metadata": {},
          "output_type": "execute_result"
        }
      ],
      "source": [
        "# Encode sex feature\n",
        "data[\"Sex\"] = data[\"Sex\"].map(\n",
        "    {\n",
        "        \"male\": 1,\n",
        "        \"female\": 0,\n",
        "    }\n",
        ")\n",
        "\n",
        "data[\"Sex\"]"
      ]
    },
    {
      "cell_type": "markdown",
      "metadata": {
        "id": "zcCsaEEeg7gx"
      },
      "source": [
        "##### **Encode Embarked**"
      ]
    },
    {
      "cell_type": "markdown",
      "metadata": {
        "id": "_oWiJC1nhCfa"
      },
      "source": [
        "##### **OneHotEncoding of Embarked**"
      ]
    },
    {
      "cell_type": "code",
      "execution_count": 135,
      "metadata": {
        "colab": {
          "base_uri": "https://localhost:8080/",
          "height": 240
        },
        "id": "StaXvValg-oz",
        "outputId": "98e831bb-3178-4b90-e710-027663b98769"
      },
      "outputs": [],
      "source": [
        "# One-Hot Encoding of 'Embarked'\n",
        "embarked_dummies = pd.get_dummies(data['Embarked'], prefix='Embarked')\n"
      ]
    },
    {
      "cell_type": "markdown",
      "metadata": {
        "id": "ymIAJ0GthnYg"
      },
      "source": [
        "##### **Drop non used columns and merge data**"
      ]
    },
    {
      "cell_type": "code",
      "execution_count": 136,
      "metadata": {},
      "outputs": [],
      "source": [
        "# Concatenate the new dummy variables to the main dataframe\n",
        "data = pd.concat([data, embarked_dummies], axis=1)"
      ]
    },
    {
      "cell_type": "code",
      "execution_count": 137,
      "metadata": {},
      "outputs": [
        {
          "data": {
            "text/plain": [
              "Mr          517\n",
              "Miss        182\n",
              "Mrs         125\n",
              "Master       40\n",
              "Dr            7\n",
              "Rev           6\n",
              "Mlle          2\n",
              "Major         2\n",
              "Col           2\n",
              "Countess      1\n",
              "Capt          1\n",
              "Ms            1\n",
              "Sir           1\n",
              "Lady          1\n",
              "Mme           1\n",
              "Don           1\n",
              "Jonkheer      1\n",
              "Name: Title, dtype: int64"
            ]
          },
          "execution_count": 137,
          "metadata": {},
          "output_type": "execute_result"
        }
      ],
      "source": [
        "# Feature 1: Extract titles from names\n",
        "data['Title'] = data['Name'].str.extract(' ([A-Za-z]+)\\.', expand=False)\n",
        "\n",
        "# Display the unique titles\n",
        "data['Title'].value_counts()"
      ]
    },
    {
      "cell_type": "code",
      "execution_count": 138,
      "metadata": {},
      "outputs": [
        {
          "data": {
            "text/html": [
              "<div>\n",
              "<style scoped>\n",
              "    .dataframe tbody tr th:only-of-type {\n",
              "        vertical-align: middle;\n",
              "    }\n",
              "\n",
              "    .dataframe tbody tr th {\n",
              "        vertical-align: top;\n",
              "    }\n",
              "\n",
              "    .dataframe thead th {\n",
              "        text-align: right;\n",
              "    }\n",
              "</style>\n",
              "<table border=\"1\" class=\"dataframe\">\n",
              "  <thead>\n",
              "    <tr style=\"text-align: right;\">\n",
              "      <th></th>\n",
              "      <th>Survived</th>\n",
              "      <th>Pclass</th>\n",
              "      <th>Name</th>\n",
              "      <th>Sex</th>\n",
              "      <th>Age</th>\n",
              "      <th>SibSp</th>\n",
              "      <th>Parch</th>\n",
              "      <th>Ticket</th>\n",
              "      <th>Fare</th>\n",
              "      <th>Cabin</th>\n",
              "      <th>Embarked</th>\n",
              "      <th>Cabin_Ind</th>\n",
              "      <th>Embarked_C</th>\n",
              "      <th>Embarked_Q</th>\n",
              "      <th>Embarked_S</th>\n",
              "      <th>Title</th>\n",
              "      <th>FamilySize</th>\n",
              "      <th>IsAlone</th>\n",
              "    </tr>\n",
              "    <tr>\n",
              "      <th>PassengerId</th>\n",
              "      <th></th>\n",
              "      <th></th>\n",
              "      <th></th>\n",
              "      <th></th>\n",
              "      <th></th>\n",
              "      <th></th>\n",
              "      <th></th>\n",
              "      <th></th>\n",
              "      <th></th>\n",
              "      <th></th>\n",
              "      <th></th>\n",
              "      <th></th>\n",
              "      <th></th>\n",
              "      <th></th>\n",
              "      <th></th>\n",
              "      <th></th>\n",
              "      <th></th>\n",
              "      <th></th>\n",
              "    </tr>\n",
              "  </thead>\n",
              "  <tbody>\n",
              "    <tr>\n",
              "      <th>1</th>\n",
              "      <td>0</td>\n",
              "      <td>3</td>\n",
              "      <td>Braund, Mr. Owen Harris</td>\n",
              "      <td>1</td>\n",
              "      <td>22.0</td>\n",
              "      <td>1</td>\n",
              "      <td>0</td>\n",
              "      <td>A/5 21171</td>\n",
              "      <td>7.2500</td>\n",
              "      <td>NaN</td>\n",
              "      <td>S</td>\n",
              "      <td>0</td>\n",
              "      <td>0</td>\n",
              "      <td>0</td>\n",
              "      <td>1</td>\n",
              "      <td>Mr</td>\n",
              "      <td>2</td>\n",
              "      <td>0</td>\n",
              "    </tr>\n",
              "    <tr>\n",
              "      <th>2</th>\n",
              "      <td>1</td>\n",
              "      <td>1</td>\n",
              "      <td>Cumings, Mrs. John Bradley (Florence Briggs Th...</td>\n",
              "      <td>0</td>\n",
              "      <td>38.0</td>\n",
              "      <td>1</td>\n",
              "      <td>0</td>\n",
              "      <td>PC 17599</td>\n",
              "      <td>71.2833</td>\n",
              "      <td>C85</td>\n",
              "      <td>C</td>\n",
              "      <td>1</td>\n",
              "      <td>1</td>\n",
              "      <td>0</td>\n",
              "      <td>0</td>\n",
              "      <td>Mrs</td>\n",
              "      <td>2</td>\n",
              "      <td>0</td>\n",
              "    </tr>\n",
              "    <tr>\n",
              "      <th>3</th>\n",
              "      <td>1</td>\n",
              "      <td>3</td>\n",
              "      <td>Heikkinen, Miss. Laina</td>\n",
              "      <td>0</td>\n",
              "      <td>26.0</td>\n",
              "      <td>0</td>\n",
              "      <td>0</td>\n",
              "      <td>STON/O2. 3101282</td>\n",
              "      <td>7.9250</td>\n",
              "      <td>NaN</td>\n",
              "      <td>S</td>\n",
              "      <td>0</td>\n",
              "      <td>0</td>\n",
              "      <td>0</td>\n",
              "      <td>1</td>\n",
              "      <td>Miss</td>\n",
              "      <td>1</td>\n",
              "      <td>1</td>\n",
              "    </tr>\n",
              "    <tr>\n",
              "      <th>4</th>\n",
              "      <td>1</td>\n",
              "      <td>1</td>\n",
              "      <td>Futrelle, Mrs. Jacques Heath (Lily May Peel)</td>\n",
              "      <td>0</td>\n",
              "      <td>35.0</td>\n",
              "      <td>1</td>\n",
              "      <td>0</td>\n",
              "      <td>113803</td>\n",
              "      <td>53.1000</td>\n",
              "      <td>C123</td>\n",
              "      <td>S</td>\n",
              "      <td>1</td>\n",
              "      <td>0</td>\n",
              "      <td>0</td>\n",
              "      <td>1</td>\n",
              "      <td>Mrs</td>\n",
              "      <td>2</td>\n",
              "      <td>0</td>\n",
              "    </tr>\n",
              "    <tr>\n",
              "      <th>5</th>\n",
              "      <td>0</td>\n",
              "      <td>3</td>\n",
              "      <td>Allen, Mr. William Henry</td>\n",
              "      <td>1</td>\n",
              "      <td>35.0</td>\n",
              "      <td>0</td>\n",
              "      <td>0</td>\n",
              "      <td>373450</td>\n",
              "      <td>8.0500</td>\n",
              "      <td>NaN</td>\n",
              "      <td>S</td>\n",
              "      <td>0</td>\n",
              "      <td>0</td>\n",
              "      <td>0</td>\n",
              "      <td>1</td>\n",
              "      <td>Mr</td>\n",
              "      <td>1</td>\n",
              "      <td>1</td>\n",
              "    </tr>\n",
              "  </tbody>\n",
              "</table>\n",
              "</div>"
            ],
            "text/plain": [
              "             Survived  Pclass  \\\n",
              "PassengerId                     \n",
              "1                   0       3   \n",
              "2                   1       1   \n",
              "3                   1       3   \n",
              "4                   1       1   \n",
              "5                   0       3   \n",
              "\n",
              "                                                          Name  Sex   Age  \\\n",
              "PassengerId                                                                 \n",
              "1                                      Braund, Mr. Owen Harris    1  22.0   \n",
              "2            Cumings, Mrs. John Bradley (Florence Briggs Th...    0  38.0   \n",
              "3                                       Heikkinen, Miss. Laina    0  26.0   \n",
              "4                 Futrelle, Mrs. Jacques Heath (Lily May Peel)    0  35.0   \n",
              "5                                     Allen, Mr. William Henry    1  35.0   \n",
              "\n",
              "             SibSp  Parch            Ticket     Fare Cabin Embarked  \\\n",
              "PassengerId                                                           \n",
              "1                1      0         A/5 21171   7.2500   NaN        S   \n",
              "2                1      0          PC 17599  71.2833   C85        C   \n",
              "3                0      0  STON/O2. 3101282   7.9250   NaN        S   \n",
              "4                1      0            113803  53.1000  C123        S   \n",
              "5                0      0            373450   8.0500   NaN        S   \n",
              "\n",
              "             Cabin_Ind  Embarked_C  Embarked_Q  Embarked_S Title  FamilySize  \\\n",
              "PassengerId                                                                    \n",
              "1                    0           0           0           1    Mr           2   \n",
              "2                    1           1           0           0   Mrs           2   \n",
              "3                    0           0           0           1  Miss           1   \n",
              "4                    1           0           0           1   Mrs           2   \n",
              "5                    0           0           0           1    Mr           1   \n",
              "\n",
              "             IsAlone  \n",
              "PassengerId           \n",
              "1                  0  \n",
              "2                  0  \n",
              "3                  1  \n",
              "4                  0  \n",
              "5                  1  "
            ]
          },
          "execution_count": 138,
          "metadata": {},
          "output_type": "execute_result"
        }
      ],
      "source": [
        "# Feature 2: Create family size feature\n",
        "data['FamilySize'] = data['SibSp'] + data['Parch'] + 1\n",
        "\n",
        "# Feature 3: Create a feature for solo travellers\n",
        "data['IsAlone'] = 0\n",
        "data.loc[data['FamilySize'] == 1, 'IsAlone'] = 1\n",
        "\n",
        "# Display the updated dataset\n",
        "data.head()"
      ]
    },
    {
      "cell_type": "code",
      "execution_count": 139,
      "metadata": {},
      "outputs": [
        {
          "data": {
            "text/html": [
              "<div>\n",
              "<style scoped>\n",
              "    .dataframe tbody tr th:only-of-type {\n",
              "        vertical-align: middle;\n",
              "    }\n",
              "\n",
              "    .dataframe tbody tr th {\n",
              "        vertical-align: top;\n",
              "    }\n",
              "\n",
              "    .dataframe thead th {\n",
              "        text-align: right;\n",
              "    }\n",
              "</style>\n",
              "<table border=\"1\" class=\"dataframe\">\n",
              "  <thead>\n",
              "    <tr style=\"text-align: right;\">\n",
              "      <th></th>\n",
              "      <th>Survived</th>\n",
              "      <th>Pclass</th>\n",
              "      <th>Name</th>\n",
              "      <th>Sex</th>\n",
              "      <th>Age</th>\n",
              "      <th>SibSp</th>\n",
              "      <th>Parch</th>\n",
              "      <th>Ticket</th>\n",
              "      <th>Fare</th>\n",
              "      <th>Cabin</th>\n",
              "      <th>Embarked</th>\n",
              "      <th>Cabin_Ind</th>\n",
              "      <th>Embarked_C</th>\n",
              "      <th>Embarked_Q</th>\n",
              "      <th>Embarked_S</th>\n",
              "      <th>Title</th>\n",
              "      <th>FamilySize</th>\n",
              "      <th>IsAlone</th>\n",
              "      <th>AgeGroup</th>\n",
              "    </tr>\n",
              "    <tr>\n",
              "      <th>PassengerId</th>\n",
              "      <th></th>\n",
              "      <th></th>\n",
              "      <th></th>\n",
              "      <th></th>\n",
              "      <th></th>\n",
              "      <th></th>\n",
              "      <th></th>\n",
              "      <th></th>\n",
              "      <th></th>\n",
              "      <th></th>\n",
              "      <th></th>\n",
              "      <th></th>\n",
              "      <th></th>\n",
              "      <th></th>\n",
              "      <th></th>\n",
              "      <th></th>\n",
              "      <th></th>\n",
              "      <th></th>\n",
              "      <th></th>\n",
              "    </tr>\n",
              "  </thead>\n",
              "  <tbody>\n",
              "    <tr>\n",
              "      <th>1</th>\n",
              "      <td>0</td>\n",
              "      <td>3</td>\n",
              "      <td>Braund, Mr. Owen Harris</td>\n",
              "      <td>1</td>\n",
              "      <td>22.0</td>\n",
              "      <td>1</td>\n",
              "      <td>0</td>\n",
              "      <td>A/5 21171</td>\n",
              "      <td>7.2500</td>\n",
              "      <td>NaN</td>\n",
              "      <td>S</td>\n",
              "      <td>0</td>\n",
              "      <td>0</td>\n",
              "      <td>0</td>\n",
              "      <td>1</td>\n",
              "      <td>Mr</td>\n",
              "      <td>2</td>\n",
              "      <td>0</td>\n",
              "      <td>Adult</td>\n",
              "    </tr>\n",
              "    <tr>\n",
              "      <th>2</th>\n",
              "      <td>1</td>\n",
              "      <td>1</td>\n",
              "      <td>Cumings, Mrs. John Bradley (Florence Briggs Th...</td>\n",
              "      <td>0</td>\n",
              "      <td>38.0</td>\n",
              "      <td>1</td>\n",
              "      <td>0</td>\n",
              "      <td>PC 17599</td>\n",
              "      <td>71.2833</td>\n",
              "      <td>C85</td>\n",
              "      <td>C</td>\n",
              "      <td>1</td>\n",
              "      <td>1</td>\n",
              "      <td>0</td>\n",
              "      <td>0</td>\n",
              "      <td>Mrs</td>\n",
              "      <td>2</td>\n",
              "      <td>0</td>\n",
              "      <td>Adult</td>\n",
              "    </tr>\n",
              "    <tr>\n",
              "      <th>3</th>\n",
              "      <td>1</td>\n",
              "      <td>3</td>\n",
              "      <td>Heikkinen, Miss. Laina</td>\n",
              "      <td>0</td>\n",
              "      <td>26.0</td>\n",
              "      <td>0</td>\n",
              "      <td>0</td>\n",
              "      <td>STON/O2. 3101282</td>\n",
              "      <td>7.9250</td>\n",
              "      <td>NaN</td>\n",
              "      <td>S</td>\n",
              "      <td>0</td>\n",
              "      <td>0</td>\n",
              "      <td>0</td>\n",
              "      <td>1</td>\n",
              "      <td>Miss</td>\n",
              "      <td>1</td>\n",
              "      <td>1</td>\n",
              "      <td>Adult</td>\n",
              "    </tr>\n",
              "    <tr>\n",
              "      <th>4</th>\n",
              "      <td>1</td>\n",
              "      <td>1</td>\n",
              "      <td>Futrelle, Mrs. Jacques Heath (Lily May Peel)</td>\n",
              "      <td>0</td>\n",
              "      <td>35.0</td>\n",
              "      <td>1</td>\n",
              "      <td>0</td>\n",
              "      <td>113803</td>\n",
              "      <td>53.1000</td>\n",
              "      <td>C123</td>\n",
              "      <td>S</td>\n",
              "      <td>1</td>\n",
              "      <td>0</td>\n",
              "      <td>0</td>\n",
              "      <td>1</td>\n",
              "      <td>Mrs</td>\n",
              "      <td>2</td>\n",
              "      <td>0</td>\n",
              "      <td>Adult</td>\n",
              "    </tr>\n",
              "    <tr>\n",
              "      <th>5</th>\n",
              "      <td>0</td>\n",
              "      <td>3</td>\n",
              "      <td>Allen, Mr. William Henry</td>\n",
              "      <td>1</td>\n",
              "      <td>35.0</td>\n",
              "      <td>0</td>\n",
              "      <td>0</td>\n",
              "      <td>373450</td>\n",
              "      <td>8.0500</td>\n",
              "      <td>NaN</td>\n",
              "      <td>S</td>\n",
              "      <td>0</td>\n",
              "      <td>0</td>\n",
              "      <td>0</td>\n",
              "      <td>1</td>\n",
              "      <td>Mr</td>\n",
              "      <td>1</td>\n",
              "      <td>1</td>\n",
              "      <td>Adult</td>\n",
              "    </tr>\n",
              "  </tbody>\n",
              "</table>\n",
              "</div>"
            ],
            "text/plain": [
              "             Survived  Pclass  \\\n",
              "PassengerId                     \n",
              "1                   0       3   \n",
              "2                   1       1   \n",
              "3                   1       3   \n",
              "4                   1       1   \n",
              "5                   0       3   \n",
              "\n",
              "                                                          Name  Sex   Age  \\\n",
              "PassengerId                                                                 \n",
              "1                                      Braund, Mr. Owen Harris    1  22.0   \n",
              "2            Cumings, Mrs. John Bradley (Florence Briggs Th...    0  38.0   \n",
              "3                                       Heikkinen, Miss. Laina    0  26.0   \n",
              "4                 Futrelle, Mrs. Jacques Heath (Lily May Peel)    0  35.0   \n",
              "5                                     Allen, Mr. William Henry    1  35.0   \n",
              "\n",
              "             SibSp  Parch            Ticket     Fare Cabin Embarked  \\\n",
              "PassengerId                                                           \n",
              "1                1      0         A/5 21171   7.2500   NaN        S   \n",
              "2                1      0          PC 17599  71.2833   C85        C   \n",
              "3                0      0  STON/O2. 3101282   7.9250   NaN        S   \n",
              "4                1      0            113803  53.1000  C123        S   \n",
              "5                0      0            373450   8.0500   NaN        S   \n",
              "\n",
              "             Cabin_Ind  Embarked_C  Embarked_Q  Embarked_S Title  FamilySize  \\\n",
              "PassengerId                                                                    \n",
              "1                    0           0           0           1    Mr           2   \n",
              "2                    1           1           0           0   Mrs           2   \n",
              "3                    0           0           0           1  Miss           1   \n",
              "4                    1           0           0           1   Mrs           2   \n",
              "5                    0           0           0           1    Mr           1   \n",
              "\n",
              "             IsAlone AgeGroup  \n",
              "PassengerId                    \n",
              "1                  0    Adult  \n",
              "2                  0    Adult  \n",
              "3                  1    Adult  \n",
              "4                  0    Adult  \n",
              "5                  1    Adult  "
            ]
          },
          "execution_count": 139,
          "metadata": {},
          "output_type": "execute_result"
        }
      ],
      "source": [
        "# Feature 3: Categorize age into groups\n",
        "bins = [0, 12, 20, 40, 60, 80]\n",
        "labels = ['Child', 'Teen', 'Adult', 'Middle-aged', 'Senior']\n",
        "data['AgeGroup'] = pd.cut(data['Age'], bins=bins, labels=labels, right=False)\n",
        "\n",
        "# Display the updated dataset\n",
        "data.head()"
      ]
    },
    {
      "cell_type": "code",
      "execution_count": 140,
      "metadata": {},
      "outputs": [
        {
          "data": {
            "text/html": [
              "<div>\n",
              "<style scoped>\n",
              "    .dataframe tbody tr th:only-of-type {\n",
              "        vertical-align: middle;\n",
              "    }\n",
              "\n",
              "    .dataframe tbody tr th {\n",
              "        vertical-align: top;\n",
              "    }\n",
              "\n",
              "    .dataframe thead th {\n",
              "        text-align: right;\n",
              "    }\n",
              "</style>\n",
              "<table border=\"1\" class=\"dataframe\">\n",
              "  <thead>\n",
              "    <tr style=\"text-align: right;\">\n",
              "      <th></th>\n",
              "      <th>Survived</th>\n",
              "      <th>Pclass</th>\n",
              "      <th>Name</th>\n",
              "      <th>Sex</th>\n",
              "      <th>Age</th>\n",
              "      <th>SibSp</th>\n",
              "      <th>Parch</th>\n",
              "      <th>Ticket</th>\n",
              "      <th>Fare</th>\n",
              "      <th>Cabin</th>\n",
              "      <th>Embarked</th>\n",
              "      <th>Cabin_Ind</th>\n",
              "      <th>Embarked_C</th>\n",
              "      <th>Embarked_Q</th>\n",
              "      <th>Embarked_S</th>\n",
              "      <th>Title</th>\n",
              "      <th>FamilySize</th>\n",
              "      <th>IsAlone</th>\n",
              "      <th>AgeGroup</th>\n",
              "      <th>FarePerPerson</th>\n",
              "    </tr>\n",
              "    <tr>\n",
              "      <th>PassengerId</th>\n",
              "      <th></th>\n",
              "      <th></th>\n",
              "      <th></th>\n",
              "      <th></th>\n",
              "      <th></th>\n",
              "      <th></th>\n",
              "      <th></th>\n",
              "      <th></th>\n",
              "      <th></th>\n",
              "      <th></th>\n",
              "      <th></th>\n",
              "      <th></th>\n",
              "      <th></th>\n",
              "      <th></th>\n",
              "      <th></th>\n",
              "      <th></th>\n",
              "      <th></th>\n",
              "      <th></th>\n",
              "      <th></th>\n",
              "      <th></th>\n",
              "    </tr>\n",
              "  </thead>\n",
              "  <tbody>\n",
              "    <tr>\n",
              "      <th>1</th>\n",
              "      <td>0</td>\n",
              "      <td>3</td>\n",
              "      <td>Braund, Mr. Owen Harris</td>\n",
              "      <td>1</td>\n",
              "      <td>22.0</td>\n",
              "      <td>1</td>\n",
              "      <td>0</td>\n",
              "      <td>A/5 21171</td>\n",
              "      <td>7.2500</td>\n",
              "      <td>NaN</td>\n",
              "      <td>S</td>\n",
              "      <td>0</td>\n",
              "      <td>0</td>\n",
              "      <td>0</td>\n",
              "      <td>1</td>\n",
              "      <td>Mr</td>\n",
              "      <td>2</td>\n",
              "      <td>0</td>\n",
              "      <td>Adult</td>\n",
              "      <td>3.62500</td>\n",
              "    </tr>\n",
              "    <tr>\n",
              "      <th>2</th>\n",
              "      <td>1</td>\n",
              "      <td>1</td>\n",
              "      <td>Cumings, Mrs. John Bradley (Florence Briggs Th...</td>\n",
              "      <td>0</td>\n",
              "      <td>38.0</td>\n",
              "      <td>1</td>\n",
              "      <td>0</td>\n",
              "      <td>PC 17599</td>\n",
              "      <td>71.2833</td>\n",
              "      <td>C85</td>\n",
              "      <td>C</td>\n",
              "      <td>1</td>\n",
              "      <td>1</td>\n",
              "      <td>0</td>\n",
              "      <td>0</td>\n",
              "      <td>Mrs</td>\n",
              "      <td>2</td>\n",
              "      <td>0</td>\n",
              "      <td>Adult</td>\n",
              "      <td>35.64165</td>\n",
              "    </tr>\n",
              "    <tr>\n",
              "      <th>3</th>\n",
              "      <td>1</td>\n",
              "      <td>3</td>\n",
              "      <td>Heikkinen, Miss. Laina</td>\n",
              "      <td>0</td>\n",
              "      <td>26.0</td>\n",
              "      <td>0</td>\n",
              "      <td>0</td>\n",
              "      <td>STON/O2. 3101282</td>\n",
              "      <td>7.9250</td>\n",
              "      <td>NaN</td>\n",
              "      <td>S</td>\n",
              "      <td>0</td>\n",
              "      <td>0</td>\n",
              "      <td>0</td>\n",
              "      <td>1</td>\n",
              "      <td>Miss</td>\n",
              "      <td>1</td>\n",
              "      <td>1</td>\n",
              "      <td>Adult</td>\n",
              "      <td>7.92500</td>\n",
              "    </tr>\n",
              "    <tr>\n",
              "      <th>4</th>\n",
              "      <td>1</td>\n",
              "      <td>1</td>\n",
              "      <td>Futrelle, Mrs. Jacques Heath (Lily May Peel)</td>\n",
              "      <td>0</td>\n",
              "      <td>35.0</td>\n",
              "      <td>1</td>\n",
              "      <td>0</td>\n",
              "      <td>113803</td>\n",
              "      <td>53.1000</td>\n",
              "      <td>C123</td>\n",
              "      <td>S</td>\n",
              "      <td>1</td>\n",
              "      <td>0</td>\n",
              "      <td>0</td>\n",
              "      <td>1</td>\n",
              "      <td>Mrs</td>\n",
              "      <td>2</td>\n",
              "      <td>0</td>\n",
              "      <td>Adult</td>\n",
              "      <td>26.55000</td>\n",
              "    </tr>\n",
              "    <tr>\n",
              "      <th>5</th>\n",
              "      <td>0</td>\n",
              "      <td>3</td>\n",
              "      <td>Allen, Mr. William Henry</td>\n",
              "      <td>1</td>\n",
              "      <td>35.0</td>\n",
              "      <td>0</td>\n",
              "      <td>0</td>\n",
              "      <td>373450</td>\n",
              "      <td>8.0500</td>\n",
              "      <td>NaN</td>\n",
              "      <td>S</td>\n",
              "      <td>0</td>\n",
              "      <td>0</td>\n",
              "      <td>0</td>\n",
              "      <td>1</td>\n",
              "      <td>Mr</td>\n",
              "      <td>1</td>\n",
              "      <td>1</td>\n",
              "      <td>Adult</td>\n",
              "      <td>8.05000</td>\n",
              "    </tr>\n",
              "  </tbody>\n",
              "</table>\n",
              "</div>"
            ],
            "text/plain": [
              "             Survived  Pclass  \\\n",
              "PassengerId                     \n",
              "1                   0       3   \n",
              "2                   1       1   \n",
              "3                   1       3   \n",
              "4                   1       1   \n",
              "5                   0       3   \n",
              "\n",
              "                                                          Name  Sex   Age  \\\n",
              "PassengerId                                                                 \n",
              "1                                      Braund, Mr. Owen Harris    1  22.0   \n",
              "2            Cumings, Mrs. John Bradley (Florence Briggs Th...    0  38.0   \n",
              "3                                       Heikkinen, Miss. Laina    0  26.0   \n",
              "4                 Futrelle, Mrs. Jacques Heath (Lily May Peel)    0  35.0   \n",
              "5                                     Allen, Mr. William Henry    1  35.0   \n",
              "\n",
              "             SibSp  Parch            Ticket     Fare Cabin Embarked  \\\n",
              "PassengerId                                                           \n",
              "1                1      0         A/5 21171   7.2500   NaN        S   \n",
              "2                1      0          PC 17599  71.2833   C85        C   \n",
              "3                0      0  STON/O2. 3101282   7.9250   NaN        S   \n",
              "4                1      0            113803  53.1000  C123        S   \n",
              "5                0      0            373450   8.0500   NaN        S   \n",
              "\n",
              "             Cabin_Ind  Embarked_C  Embarked_Q  Embarked_S Title  FamilySize  \\\n",
              "PassengerId                                                                    \n",
              "1                    0           0           0           1    Mr           2   \n",
              "2                    1           1           0           0   Mrs           2   \n",
              "3                    0           0           0           1  Miss           1   \n",
              "4                    1           0           0           1   Mrs           2   \n",
              "5                    0           0           0           1    Mr           1   \n",
              "\n",
              "             IsAlone AgeGroup  FarePerPerson  \n",
              "PassengerId                                   \n",
              "1                  0    Adult        3.62500  \n",
              "2                  0    Adult       35.64165  \n",
              "3                  1    Adult        7.92500  \n",
              "4                  0    Adult       26.55000  \n",
              "5                  1    Adult        8.05000  "
            ]
          },
          "execution_count": 140,
          "metadata": {},
          "output_type": "execute_result"
        }
      ],
      "source": [
        "# Feature 4: Calculate fare per person\n",
        "data['FarePerPerson'] = data['Fare'] / data['FamilySize']\n",
        "\n",
        "# Display the updated dataset\n",
        "data.head()"
      ]
    },
    {
      "cell_type": "code",
      "execution_count": 141,
      "metadata": {
        "id": "J9b28J_LhufT"
      },
      "outputs": [
        {
          "data": {
            "text/html": [
              "<div>\n",
              "<style scoped>\n",
              "    .dataframe tbody tr th:only-of-type {\n",
              "        vertical-align: middle;\n",
              "    }\n",
              "\n",
              "    .dataframe tbody tr th {\n",
              "        vertical-align: top;\n",
              "    }\n",
              "\n",
              "    .dataframe thead th {\n",
              "        text-align: right;\n",
              "    }\n",
              "</style>\n",
              "<table border=\"1\" class=\"dataframe\">\n",
              "  <thead>\n",
              "    <tr style=\"text-align: right;\">\n",
              "      <th></th>\n",
              "      <th>Survived</th>\n",
              "      <th>Pclass</th>\n",
              "      <th>Sex</th>\n",
              "      <th>Age</th>\n",
              "      <th>SibSp</th>\n",
              "      <th>Parch</th>\n",
              "      <th>Cabin_Ind</th>\n",
              "      <th>Embarked_C</th>\n",
              "      <th>Embarked_Q</th>\n",
              "      <th>Embarked_S</th>\n",
              "      <th>Title</th>\n",
              "      <th>FamilySize</th>\n",
              "      <th>IsAlone</th>\n",
              "      <th>AgeGroup</th>\n",
              "      <th>FarePerPerson</th>\n",
              "    </tr>\n",
              "    <tr>\n",
              "      <th>PassengerId</th>\n",
              "      <th></th>\n",
              "      <th></th>\n",
              "      <th></th>\n",
              "      <th></th>\n",
              "      <th></th>\n",
              "      <th></th>\n",
              "      <th></th>\n",
              "      <th></th>\n",
              "      <th></th>\n",
              "      <th></th>\n",
              "      <th></th>\n",
              "      <th></th>\n",
              "      <th></th>\n",
              "      <th></th>\n",
              "      <th></th>\n",
              "    </tr>\n",
              "  </thead>\n",
              "  <tbody>\n",
              "    <tr>\n",
              "      <th>1</th>\n",
              "      <td>0</td>\n",
              "      <td>3</td>\n",
              "      <td>1</td>\n",
              "      <td>22.0</td>\n",
              "      <td>1</td>\n",
              "      <td>0</td>\n",
              "      <td>0</td>\n",
              "      <td>0</td>\n",
              "      <td>0</td>\n",
              "      <td>1</td>\n",
              "      <td>Mr</td>\n",
              "      <td>2</td>\n",
              "      <td>0</td>\n",
              "      <td>Adult</td>\n",
              "      <td>3.62500</td>\n",
              "    </tr>\n",
              "    <tr>\n",
              "      <th>2</th>\n",
              "      <td>1</td>\n",
              "      <td>1</td>\n",
              "      <td>0</td>\n",
              "      <td>38.0</td>\n",
              "      <td>1</td>\n",
              "      <td>0</td>\n",
              "      <td>1</td>\n",
              "      <td>1</td>\n",
              "      <td>0</td>\n",
              "      <td>0</td>\n",
              "      <td>Mrs</td>\n",
              "      <td>2</td>\n",
              "      <td>0</td>\n",
              "      <td>Adult</td>\n",
              "      <td>35.64165</td>\n",
              "    </tr>\n",
              "    <tr>\n",
              "      <th>3</th>\n",
              "      <td>1</td>\n",
              "      <td>3</td>\n",
              "      <td>0</td>\n",
              "      <td>26.0</td>\n",
              "      <td>0</td>\n",
              "      <td>0</td>\n",
              "      <td>0</td>\n",
              "      <td>0</td>\n",
              "      <td>0</td>\n",
              "      <td>1</td>\n",
              "      <td>Miss</td>\n",
              "      <td>1</td>\n",
              "      <td>1</td>\n",
              "      <td>Adult</td>\n",
              "      <td>7.92500</td>\n",
              "    </tr>\n",
              "    <tr>\n",
              "      <th>4</th>\n",
              "      <td>1</td>\n",
              "      <td>1</td>\n",
              "      <td>0</td>\n",
              "      <td>35.0</td>\n",
              "      <td>1</td>\n",
              "      <td>0</td>\n",
              "      <td>1</td>\n",
              "      <td>0</td>\n",
              "      <td>0</td>\n",
              "      <td>1</td>\n",
              "      <td>Mrs</td>\n",
              "      <td>2</td>\n",
              "      <td>0</td>\n",
              "      <td>Adult</td>\n",
              "      <td>26.55000</td>\n",
              "    </tr>\n",
              "    <tr>\n",
              "      <th>5</th>\n",
              "      <td>0</td>\n",
              "      <td>3</td>\n",
              "      <td>1</td>\n",
              "      <td>35.0</td>\n",
              "      <td>0</td>\n",
              "      <td>0</td>\n",
              "      <td>0</td>\n",
              "      <td>0</td>\n",
              "      <td>0</td>\n",
              "      <td>1</td>\n",
              "      <td>Mr</td>\n",
              "      <td>1</td>\n",
              "      <td>1</td>\n",
              "      <td>Adult</td>\n",
              "      <td>8.05000</td>\n",
              "    </tr>\n",
              "  </tbody>\n",
              "</table>\n",
              "</div>"
            ],
            "text/plain": [
              "             Survived  Pclass  Sex   Age  SibSp  Parch  Cabin_Ind  Embarked_C  \\\n",
              "PassengerId                                                                     \n",
              "1                   0       3    1  22.0      1      0          0           0   \n",
              "2                   1       1    0  38.0      1      0          1           1   \n",
              "3                   1       3    0  26.0      0      0          0           0   \n",
              "4                   1       1    0  35.0      1      0          1           0   \n",
              "5                   0       3    1  35.0      0      0          0           0   \n",
              "\n",
              "             Embarked_Q  Embarked_S Title  FamilySize  IsAlone AgeGroup  \\\n",
              "PassengerId                                                               \n",
              "1                     0           1    Mr           2        0    Adult   \n",
              "2                     0           0   Mrs           2        0    Adult   \n",
              "3                     0           1  Miss           1        1    Adult   \n",
              "4                     0           1   Mrs           2        0    Adult   \n",
              "5                     0           1    Mr           1        1    Adult   \n",
              "\n",
              "             FarePerPerson  \n",
              "PassengerId                 \n",
              "1                  3.62500  \n",
              "2                 35.64165  \n",
              "3                  7.92500  \n",
              "4                 26.55000  \n",
              "5                  8.05000  "
            ]
          },
          "execution_count": 141,
          "metadata": {},
          "output_type": "execute_result"
        }
      ],
      "source": [
        "# Dropping non-used columns\n",
        "columns_to_drop = ['Name', 'Ticket', 'Cabin', 'Embarked', 'Fare']\n",
        "data = data.drop(columns=columns_to_drop)\n",
        "\n",
        "# Display the modified dataframe\n",
        "data.head()"
      ]
    },
    {
      "cell_type": "markdown",
      "metadata": {},
      "source": [
        "##### Rationale for dropping features\n",
        "\n",
        "- `Name`, `Ticket`, and `Cabin`: they are either too unique or have too many missing values\n",
        "\n",
        "- `Embarked`: it is now encoded by features prefixed with `Embarked_`\n",
        "\n",
        "- `Fare`: it has  been normalized to `FarePerPerson`"
      ]
    },
    {
      "cell_type": "markdown",
      "metadata": {
        "id": "cQxETzGWh0Ai"
      },
      "source": [
        "##### **EDA pairplot**"
      ]
    },
    {
      "cell_type": "code",
      "execution_count": null,
      "metadata": {
        "id": "lABR6X8Wh2TS"
      },
      "outputs": [],
      "source": []
    },
    {
      "cell_type": "markdown",
      "metadata": {
        "id": "CJy1l6sUh5XU"
      },
      "source": [
        "##### **Heatmap for correlation matrix**"
      ]
    },
    {
      "cell_type": "code",
      "execution_count": null,
      "metadata": {
        "id": "WPzBkQCPh97I"
      },
      "outputs": [],
      "source": []
    },
    {
      "cell_type": "code",
      "execution_count": null,
      "metadata": {
        "id": "WHINCmixiDf8"
      },
      "outputs": [],
      "source": []
    },
    {
      "cell_type": "code",
      "execution_count": null,
      "metadata": {
        "id": "fJJB5pKpiErd"
      },
      "outputs": [],
      "source": []
    },
    {
      "cell_type": "markdown",
      "metadata": {},
      "source": [
        "Since some of the features still contain non-numeric data, specifically the 'Title' and 'AgeGroup' columns, we need to be encode or handled them before we can proceed with modeling."
      ]
    },
    {
      "cell_type": "code",
      "execution_count": 143,
      "metadata": {},
      "outputs": [],
      "source": [
        "# One-Hot Encoding for 'Title' and 'AgeGroup'\n",
        "title_dummies = pd.get_dummies(data['Title'], prefix='Title')\n",
        "age_group_dummies = pd.get_dummies(data['AgeGroup'], prefix='AgeGroup')\n",
        "\n",
        "# Concatenate these new dummy variables to the training features\n",
        "data_encoded = pd.concat([data.drop(['Title', 'AgeGroup'], axis=1), title_dummies, age_group_dummies], axis=1)"
      ]
    },
    {
      "cell_type": "markdown",
      "metadata": {
        "id": "lauoJPvfiHCZ"
      },
      "source": [
        "####  **Step 3:Predictive modeling**"
      ]
    },
    {
      "cell_type": "markdown",
      "metadata": {
        "id": "HqorJrk8iMRk"
      },
      "source": [
        "##### **Create up to three differente models and use Use Voting Method to get the final ensemble model**"
      ]
    },
    {
      "cell_type": "code",
      "execution_count": 165,
      "metadata": {
        "id": "LlCkCCmxiLDI"
      },
      "outputs": [
        {
          "name": "stderr",
          "output_type": "stream",
          "text": [
            "/Users/josh/anaconda3/lib/python3.11/site-packages/sklearn/linear_model/_logistic.py:460: ConvergenceWarning: lbfgs failed to converge (status=1):\n",
            "STOP: TOTAL NO. of ITERATIONS REACHED LIMIT.\n",
            "\n",
            "Increase the number of iterations (max_iter) or scale the data as shown in:\n",
            "    https://scikit-learn.org/stable/modules/preprocessing.html\n",
            "Please also refer to the documentation for alternative solver options:\n",
            "    https://scikit-learn.org/stable/modules/linear_model.html#logistic-regression\n",
            "  n_iter_i = _check_optimize_result(\n"
          ]
        }
      ],
      "source": [
        "# Import important libraries\n",
        "from sklearn.model_selection import train_test_split\n",
        "from sklearn.linear_model import LogisticRegression\n",
        "from sklearn.tree import DecisionTreeClassifier\n",
        "from sklearn.ensemble import RandomForestClassifier, GradientBoostingClassifier\n",
        "from sklearn.model_selection import cross_val_score\n",
        "import numpy as np\n",
        "\n",
        "import xgboost\n",
        "\n",
        "\n",
        "\n",
        "# Define X,y\n",
        "X = data_encoded.drop('Survived', axis=1)  # Features\n",
        "y = data_encoded['Survived']  # Target variable\n",
        "\n",
        "# Split data (80% train, 20% test)\n",
        "X_train, X_test, y_train, y_test = train_test_split(X, y, test_size=0.2, random_state=42)\n",
        "\n",
        "\n",
        "\n",
        "#model 1\n",
        "logreg = LogisticRegression(max_iter=500)\n",
        "\n",
        "#model 2\n",
        "random_forest = RandomForestClassifier(n_estimators=100)\n",
        "\n",
        "\n",
        "#Ensemble model\n",
        "gradient_boosting = GradientBoostingClassifier(n_estimators=100)\n",
        "\n",
        "\n",
        "#Predict and Evaluate models\n",
        "# Function to perform cross-validation and evaluate models\n",
        "def evaluate_model(model, X, y, scoring='accuracy'):\n",
        "    model.fit(X, y)\n",
        "    scores = cross_val_score(model, X, y, cv=5, scoring=scoring)\n",
        "    return model, np.mean(scores), np.std(scores)\n",
        "\n",
        "# Evaluate each model\n",
        "logreg, logreg_accuracy, logreg_std = evaluate_model(logreg, X_train, y_train)\n",
        "random_forest, rf_accuracy, rf_std = evaluate_model(random_forest, X_train, y_train)\n",
        "gradient_boosting, gb_accuracy, gb_std = evaluate_model(gradient_boosting, X_train, y_train)"
      ]
    },
    {
      "cell_type": "markdown",
      "metadata": {
        "id": "GpqcwOltjPyW"
      },
      "source": [
        "####  **Step 4:Model Interpretation using shap**"
      ]
    },
    {
      "cell_type": "code",
      "execution_count": 152,
      "metadata": {
        "id": "KF9nqjMWjVHM"
      },
      "outputs": [],
      "source": [
        "# Check if the SHAP library is installed and its version, or install it if it's not available\n",
        "import pkg_resources\n",
        "\n",
        "try:\n",
        "    shap_version = pkg_resources.get_distribution(dist=\"shap\").version\n",
        "    shap_installed = True\n",
        "except pkg_resources.DistributionNotFound:\n",
        "    shap_installed = False\n",
        "    # Install SHAP if not already installed\n",
        "    !pip install shap\n",
        "\n",
        "if shap_installed:\n",
        "    import shap"
      ]
    },
    {
      "cell_type": "code",
      "execution_count": 178,
      "metadata": {},
      "outputs": [
        {
          "data": {
            "text/plain": [
              ".values =\n",
              "array([[[ 0.02020941, -0.02020941],\n",
              "        [ 0.05681542, -0.05681542],\n",
              "        [-0.00827485,  0.00827485],\n",
              "        ...,\n",
              "        [-0.00953504,  0.00953504],\n",
              "        [-0.00324078,  0.00324078],\n",
              "        [-0.00074867,  0.00074867]],\n",
              "\n",
              "       [[-0.08569058,  0.08569058],\n",
              "        [-0.11720887,  0.11720887],\n",
              "        [ 0.00415911, -0.00415911],\n",
              "        ...,\n",
              "        [-0.00402264,  0.00402264],\n",
              "        [-0.00289194,  0.00289194],\n",
              "        [-0.00167106,  0.00167106]],\n",
              "\n",
              "       [[ 0.04208992, -0.04208992],\n",
              "        [-0.15312176,  0.15312176],\n",
              "        [-0.10768692,  0.10768692],\n",
              "        ...,\n",
              "        [-0.00823997,  0.00823997],\n",
              "        [-0.00659448,  0.00659448],\n",
              "        [-0.00035854,  0.00035854]],\n",
              "\n",
              "       ...,\n",
              "\n",
              "       [[ 0.11798794, -0.11798794],\n",
              "        [-0.08134478,  0.08134478],\n",
              "        [ 0.04618698, -0.04618698],\n",
              "        ...,\n",
              "        [ 0.01567337, -0.01567337],\n",
              "        [-0.00418089,  0.00418089],\n",
              "        [-0.00029986,  0.00029986]],\n",
              "\n",
              "       [[-0.07358852,  0.07358852],\n",
              "        [ 0.06306273, -0.06306273],\n",
              "        [-0.08978869,  0.08978869],\n",
              "        ...,\n",
              "        [-0.03055332,  0.03055332],\n",
              "        [-0.00904535,  0.00904535],\n",
              "        [-0.01223134,  0.01223134]],\n",
              "\n",
              "       [[ 0.0293448 , -0.0293448 ],\n",
              "        [ 0.06249231, -0.06249231],\n",
              "        [ 0.00982533, -0.00982533],\n",
              "        ...,\n",
              "        [-0.00555837,  0.00555837],\n",
              "        [-0.0043464 ,  0.0043464 ],\n",
              "        [-0.00109756,  0.00109756]]])\n",
              "\n",
              ".base_values =\n",
              "array([[0.61566779, 0.38433221],\n",
              "       [0.61566779, 0.38433221],\n",
              "       [0.61566779, 0.38433221],\n",
              "       ...,\n",
              "       [0.61566779, 0.38433221],\n",
              "       [0.61566779, 0.38433221],\n",
              "       [0.61566779, 0.38433221]])\n",
              "\n",
              ".data =\n",
              "array([[ 3.,  1., 22., ...,  1.,  0.,  0.],\n",
              "       [ 1.,  0., 38., ...,  1.,  0.,  0.],\n",
              "       [ 3.,  0., 26., ...,  1.,  0.,  0.],\n",
              "       ...,\n",
              "       [ 3.,  0., 24., ...,  1.,  0.,  0.],\n",
              "       [ 1.,  1., 26., ...,  1.,  0.,  0.],\n",
              "       [ 3.,  1., 32., ...,  1.,  0.,  0.]])"
            ]
          },
          "execution_count": 178,
          "metadata": {},
          "output_type": "execute_result"
        }
      ],
      "source": [
        "\n",
        "random_forest_model = RandomForestClassifier().fit(X, y)\n",
        "\n",
        "# explain the model's predictions using SHAP\n",
        "# (same syntax works for LightGBM, CatBoost, scikit-learn, transformers, Spark, etc.)\n",
        "\n",
        "random_forest_explainer = shap.Explainer(random_forest_model)\n",
        "\n",
        "random_forest_shap_values = random_forest_explainer(X)\n",
        "\n",
        "# visualize the first prediction's explanation\n",
        "shap.plots.waterfall(random_forest_shap_values)"
      ]
    },
    {
      "cell_type": "code",
      "execution_count": 176,
      "metadata": {},
      "outputs": [
        {
          "ename": "ValueError",
          "evalue": "The waterfall plot can currently only plot a single explanation, but a matrix of explanations (shape (891, 34, 2)) was passed! Perhaps try `shap.plots.waterfall(shap_values[0])` or for multi-output models, try `shap.plots.waterfall(shap_values[0, 0])`.",
          "output_type": "error",
          "traceback": [
            "\u001b[0;31m---------------------------------------------------------------------------\u001b[0m",
            "\u001b[0;31mValueError\u001b[0m                                Traceback (most recent call last)",
            "Cell \u001b[0;32mIn[176], line 6\u001b[0m\n\u001b[1;32m      3\u001b[0m decision_tree_shap_values \u001b[39m=\u001b[39m decision_tree_explainer(X)\n\u001b[1;32m      5\u001b[0m \u001b[39m# visualize the first prediction's explanation\u001b[39;00m\n\u001b[0;32m----> 6\u001b[0m shap\u001b[39m.\u001b[39mplots\u001b[39m.\u001b[39mwaterfall(decision_tree_shap_values)\n",
            "File \u001b[0;32m~/anaconda3/lib/python3.11/site-packages/shap/plots/_waterfall.py:67\u001b[0m, in \u001b[0;36mwaterfall\u001b[0;34m(shap_values, max_display, show)\u001b[0m\n\u001b[1;32m     60\u001b[0m \u001b[39mif\u001b[39;00m \u001b[39mlen\u001b[39m(sv_shape) \u001b[39m!=\u001b[39m \u001b[39m1\u001b[39m:\n\u001b[1;32m     61\u001b[0m     emsg \u001b[39m=\u001b[39m (\n\u001b[1;32m     62\u001b[0m         \u001b[39m\"\u001b[39m\u001b[39mThe waterfall plot can currently only plot a single explanation, but a \u001b[39m\u001b[39m\"\u001b[39m\n\u001b[1;32m     63\u001b[0m         \u001b[39mf\u001b[39m\u001b[39m\"\u001b[39m\u001b[39mmatrix of explanations (shape \u001b[39m\u001b[39m{\u001b[39;00msv_shape\u001b[39m}\u001b[39;00m\u001b[39m) was passed! Perhaps try \u001b[39m\u001b[39m\"\u001b[39m\n\u001b[1;32m     64\u001b[0m         \u001b[39m\"\u001b[39m\u001b[39m`shap.plots.waterfall(shap_values[0])` or for multi-output models, \u001b[39m\u001b[39m\"\u001b[39m\n\u001b[1;32m     65\u001b[0m         \u001b[39m\"\u001b[39m\u001b[39mtry `shap.plots.waterfall(shap_values[0, 0])`.\u001b[39m\u001b[39m\"\u001b[39m\n\u001b[1;32m     66\u001b[0m     )\n\u001b[0;32m---> 67\u001b[0m     \u001b[39mraise\u001b[39;00m \u001b[39mValueError\u001b[39;00m(emsg)\n\u001b[1;32m     69\u001b[0m base_values \u001b[39m=\u001b[39m \u001b[39mfloat\u001b[39m(shap_values\u001b[39m.\u001b[39mbase_values)\n\u001b[1;32m     70\u001b[0m features \u001b[39m=\u001b[39m shap_values\u001b[39m.\u001b[39mdisplay_data \u001b[39mif\u001b[39;00m shap_values\u001b[39m.\u001b[39mdisplay_data \u001b[39mis\u001b[39;00m \u001b[39mnot\u001b[39;00m \u001b[39mNone\u001b[39;00m \u001b[39melse\u001b[39;00m shap_values\u001b[39m.\u001b[39mdata\n",
            "\u001b[0;31mValueError\u001b[0m: The waterfall plot can currently only plot a single explanation, but a matrix of explanations (shape (891, 34, 2)) was passed! Perhaps try `shap.plots.waterfall(shap_values[0])` or for multi-output models, try `shap.plots.waterfall(shap_values[0, 0])`."
          ]
        }
      ],
      "source": [
        "decision_tree_model = DecisionTreeClassifier().fit(X, y)\n",
        "decision_tree_explainer = shap.Explainer(decision_tree_model)\n",
        "decision_tree_shap_values = decision_tree_explainer(X)\n",
        "\n",
        "# visualize the first prediction's explanation\n",
        "shap.plots.waterfall(decision_tree_shap_values)\n"
      ]
    },
    {
      "cell_type": "code",
      "execution_count": 177,
      "metadata": {},
      "outputs": [
        {
          "ename": "ValueError",
          "evalue": "The waterfall plot can currently only plot a single explanation, but a matrix of explanations (shape (891, 34)) was passed! Perhaps try `shap.plots.waterfall(shap_values[0])` or for multi-output models, try `shap.plots.waterfall(shap_values[0, 0])`.",
          "output_type": "error",
          "traceback": [
            "\u001b[0;31m---------------------------------------------------------------------------\u001b[0m",
            "\u001b[0;31mValueError\u001b[0m                                Traceback (most recent call last)",
            "Cell \u001b[0;32mIn[177], line 6\u001b[0m\n\u001b[1;32m      3\u001b[0m xgb_shap_values \u001b[39m=\u001b[39m xgb_explainer(X)\n\u001b[1;32m      5\u001b[0m \u001b[39m# visualize the first prediction's explanation\u001b[39;00m\n\u001b[0;32m----> 6\u001b[0m shap\u001b[39m.\u001b[39mplots\u001b[39m.\u001b[39mwaterfall(xgb_shap_values)\n",
            "File \u001b[0;32m~/anaconda3/lib/python3.11/site-packages/shap/plots/_waterfall.py:67\u001b[0m, in \u001b[0;36mwaterfall\u001b[0;34m(shap_values, max_display, show)\u001b[0m\n\u001b[1;32m     60\u001b[0m \u001b[39mif\u001b[39;00m \u001b[39mlen\u001b[39m(sv_shape) \u001b[39m!=\u001b[39m \u001b[39m1\u001b[39m:\n\u001b[1;32m     61\u001b[0m     emsg \u001b[39m=\u001b[39m (\n\u001b[1;32m     62\u001b[0m         \u001b[39m\"\u001b[39m\u001b[39mThe waterfall plot can currently only plot a single explanation, but a \u001b[39m\u001b[39m\"\u001b[39m\n\u001b[1;32m     63\u001b[0m         \u001b[39mf\u001b[39m\u001b[39m\"\u001b[39m\u001b[39mmatrix of explanations (shape \u001b[39m\u001b[39m{\u001b[39;00msv_shape\u001b[39m}\u001b[39;00m\u001b[39m) was passed! Perhaps try \u001b[39m\u001b[39m\"\u001b[39m\n\u001b[1;32m     64\u001b[0m         \u001b[39m\"\u001b[39m\u001b[39m`shap.plots.waterfall(shap_values[0])` or for multi-output models, \u001b[39m\u001b[39m\"\u001b[39m\n\u001b[1;32m     65\u001b[0m         \u001b[39m\"\u001b[39m\u001b[39mtry `shap.plots.waterfall(shap_values[0, 0])`.\u001b[39m\u001b[39m\"\u001b[39m\n\u001b[1;32m     66\u001b[0m     )\n\u001b[0;32m---> 67\u001b[0m     \u001b[39mraise\u001b[39;00m \u001b[39mValueError\u001b[39;00m(emsg)\n\u001b[1;32m     69\u001b[0m base_values \u001b[39m=\u001b[39m \u001b[39mfloat\u001b[39m(shap_values\u001b[39m.\u001b[39mbase_values)\n\u001b[1;32m     70\u001b[0m features \u001b[39m=\u001b[39m shap_values\u001b[39m.\u001b[39mdisplay_data \u001b[39mif\u001b[39;00m shap_values\u001b[39m.\u001b[39mdisplay_data \u001b[39mis\u001b[39;00m \u001b[39mnot\u001b[39;00m \u001b[39mNone\u001b[39;00m \u001b[39melse\u001b[39;00m shap_values\u001b[39m.\u001b[39mdata\n",
            "\u001b[0;31mValueError\u001b[0m: The waterfall plot can currently only plot a single explanation, but a matrix of explanations (shape (891, 34)) was passed! Perhaps try `shap.plots.waterfall(shap_values[0])` or for multi-output models, try `shap.plots.waterfall(shap_values[0, 0])`."
          ]
        }
      ],
      "source": [
        "xgb_model = xgboost.XGBClassifier().fit(X, y)\n",
        "xgb_explainer = shap.Explainer(xgb_model)\n",
        "xgb_shap_values = xgb_explainer(X)\n",
        "\n",
        "# visualize the first prediction's explanation\n",
        "shap.plots.waterfall(xgb_shap_values)\n"
      ]
    },
    {
      "cell_type": "code",
      "execution_count": null,
      "metadata": {
        "id": "50a3k4ZhjcaX"
      },
      "outputs": [],
      "source": []
    },
    {
      "cell_type": "markdown",
      "metadata": {
        "id": "aDasztsxjjv5"
      },
      "source": [
        "##### **Save Model** [Here](https://)"
      ]
    },
    {
      "cell_type": "code",
      "execution_count": null,
      "metadata": {
        "id": "M0z5066MjkoK"
      },
      "outputs": [],
      "source": []
    },
    {
      "cell_type": "markdown",
      "metadata": {
        "id": "h093uzD_j2v-"
      },
      "source": [
        "\n",
        "1.   ##### ***Define a single /predict endpoint that takes JSON input, uses a pre-trained model to make predictions, and returns the predictions as a JSON response.***\n",
        "2. ##### ***Set up the environment for running the Flask application in a Docker container by using a Python base image, copying the application files, installing dependencies, and defining the command to start the app.***"
      ]
    },
    {
      "cell_type": "code",
      "execution_count": null,
      "metadata": {
        "id": "v8XuPlmLj14m"
      },
      "outputs": [],
      "source": []
    }
  ],
  "metadata": {
    "colab": {
      "provenance": []
    },
    "kernelspec": {
      "display_name": "Python 3",
      "name": "python3"
    },
    "language_info": {
      "codemirror_mode": {
        "name": "ipython",
        "version": 3
      },
      "file_extension": ".py",
      "mimetype": "text/x-python",
      "name": "python",
      "nbconvert_exporter": "python",
      "pygments_lexer": "ipython3",
      "version": "3.11.4"
    }
  },
  "nbformat": 4,
  "nbformat_minor": 0
}
